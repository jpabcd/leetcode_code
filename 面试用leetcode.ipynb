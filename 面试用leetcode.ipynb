{
 "cells": [
  {
   "cell_type": "code",
   "execution_count": 1,
   "metadata": {},
   "outputs": [
    {
     "data": {
      "text/plain": [
       "49"
      ]
     },
     "execution_count": 1,
     "metadata": {},
     "output_type": "execute_result"
    }
   ],
   "source": [
    "#https://leetcode.cn/problems/container-with-most-water/submissions/?envType=study-plan-v2&envId=top-100-liked\n",
    "from typing import List\n",
    "def maxArea(height: List[int]) -> int:\n",
    "    i=0\n",
    "    j=len(height)-1\n",
    "    temp=0\n",
    "    while i<j:\n",
    "\n",
    "        if height[i]<height[j]:\n",
    "            area=(j-i)*height[i]\n",
    "            temp_height=height[i]\n",
    "            temp=max(temp,area)\n",
    "            #小的边i要往右边找到\n",
    "            while i!=j:\n",
    "                i+=1\n",
    "                if height[i]>temp_height:\n",
    "                    break\n",
    "        else:\n",
    "            area=(j-i)*height[j]\n",
    "            temp_height=height[j]\n",
    "            temp=max(temp,area)\n",
    "            #小的边j要往左找到比它的height高的位置，才有可能有更大的水量\n",
    "            while i!=j:\n",
    "                j-=1\n",
    "                if height[j]>temp_height:\n",
    "                    break\n",
    "        \n",
    "    return temp\n",
    "height=[1,8,6,2,5,4,8,3,7]\n",
    "maxArea(height)"
   ]
  },
  {
   "cell_type": "code",
   "execution_count": null,
   "metadata": {},
   "outputs": [],
   "source": [
    "#https://leetcode.cn/problems/two-sum/?envType=study-plan-v2&envId=top-100-liked\n",
    "def twoSum( nums: List[int], target: int) -> List[int]:\n",
    "    hash={}\n",
    "    for i,val in enumerate(nums):\n",
    "        #查看target-i是不是在字典里\n",
    "        if hash.get(target-val) is not None:\n",
    "            return [hash[target-val],i]\n",
    "        else:\n",
    "            hash[val]=i\n",
    "nums=[2,7,11,15]\n",
    "target=9\n",
    "print(twoSum(nums,target))"
   ]
  },
  {
   "cell_type": "code",
   "execution_count": 7,
   "metadata": {},
   "outputs": [
    {
     "data": {
      "text/plain": [
       "'bab'"
      ]
     },
     "execution_count": 7,
     "metadata": {},
     "output_type": "execute_result"
    }
   ],
   "source": [
    "#https://leetcode.cn/problems/longest-palindromic-substring/solutions/255195/zui-chang-hui-wen-zi-chuan-by-leetcode-solution/?envType=study-plan-v2&envId=top-100-liked\n",
    "#构建状态转移矩阵n*n\n",
    "class Solution:\n",
    "    def longestPalindrome(self, s: str) -> str:\n",
    "        n=len(s)\n",
    "        max_len=0#用来保存回文字符串的长度\n",
    "        res=s[0]\n",
    "        #dp是一个n*n的矩阵\n",
    "        dp=[[False]*n for i in range(n)]\n",
    "        for i in range(n):\n",
    "            dp[i][i]=True\n",
    "        #判断01，取决于00，11， 02也是取决于00,22\n",
    "        for j in range(1,n):\n",
    "            for i in range(0,j):\n",
    "                if j-i<3:\n",
    "                    dp[i][j]=s[i]==s[j]\n",
    "                else:\n",
    "                    dp[i][j]=dp[i+1][j-1]&(s[i]==s[j])\n",
    "                if dp[i][j]:#如果是true就看看是不是比当前的长度长\n",
    "                    if max_len<j-i+1:#更新最大长度\n",
    "                        max_len=j-i+1\n",
    "                        #同时更新res\n",
    "                        res=s[i:j+1]\n",
    "        return res\n",
    "solution=Solution()\n",
    "solution.longestPalindrome(\"babad\")"
   ]
  },
  {
   "cell_type": "code",
   "execution_count": null,
   "metadata": {},
   "outputs": [],
   "source": [
    "class Solution:\n",
    "    def trap(self, height: List[int]) -> int:\n",
    "        start=0\n",
    "        pointer=start\n",
    "        h_lis=[]\n",
    "        while height[pointer]<=height[start]:\n",
    "            #移动pointer\n",
    "            pointer+=1\n",
    "            h_lis.append\n"
   ]
  },
  {
   "cell_type": "code",
   "execution_count": 10,
   "metadata": {},
   "outputs": [
    {
     "data": {
      "text/plain": [
       "28"
      ]
     },
     "execution_count": 10,
     "metadata": {},
     "output_type": "execute_result"
    }
   ],
   "source": [
    "def uniquePaths(m: int, n: int) -> int:\n",
    "    mat_=[1]*n\n",
    "    matrix = [list(mat_) for _ in range(m)]\n",
    "    for col in range(1,n):\n",
    "        for row in range(1,m):\n",
    "            matrix[row][col]=matrix[row-1][col]+matrix[row][col-1]\n",
    "\n",
    "    return matrix[row][col]\n",
    "uniquePaths(3,7)"
   ]
  },
  {
   "cell_type": "code",
   "execution_count": 8,
   "metadata": {},
   "outputs": [
    {
     "name": "stdout",
     "output_type": "stream",
     "text": [
      "[0, 0, 2, 2, 2, 3, 3, 4]\n",
      "[4, 4, 4, 4, 4, 3, 3, 0]\n"
     ]
    },
    {
     "data": {
      "text/plain": [
       "6"
      ]
     },
     "execution_count": 8,
     "metadata": {},
     "output_type": "execute_result"
    }
   ],
   "source": [
    "\n",
    "def maxProfit(prices) -> int:\n",
    "    list_len=len(prices)\n",
    "    left_lis=[0]*list_len\n",
    "    right_lis=[0]*list_len\n",
    "    min_price=prices[0]\n",
    "    max_price=prices[list_len-1]\n",
    "    for i in range(1,len(prices)):\n",
    "        left_lis[i]=max(left_lis[i-1],prices[i]-min_price)\n",
    "        min_price=min(prices[i],min_price)\n",
    "\n",
    "    for j in range(list_len-2,-1,-1):\n",
    "        right_lis[j]=max(right_lis[j+1],max_price-prices[j])\n",
    "        max_price=max(prices[j],max_price)\n",
    "    res=0\n",
    "    for i,j in zip(left_lis,right_lis):\n",
    "        res=max(i+j,res)\n",
    "    print(left_lis)\n",
    "    print(right_lis)\n",
    "    return res\n",
    "prices = [3,3,5,0,0,3,1,4]\n",
    "maxProfit(prices)"
   ]
  }
 ],
 "metadata": {
  "kernelspec": {
   "display_name": "base",
   "language": "python",
   "name": "python3"
  },
  "language_info": {
   "codemirror_mode": {
    "name": "ipython",
    "version": 3
   },
   "file_extension": ".py",
   "mimetype": "text/x-python",
   "name": "python",
   "nbconvert_exporter": "python",
   "pygments_lexer": "ipython3",
   "version": "3.9.18"
  }
 },
 "nbformat": 4,
 "nbformat_minor": 2
}
